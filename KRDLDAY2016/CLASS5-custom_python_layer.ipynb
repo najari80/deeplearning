{
 "cells": [
  {
   "cell_type": "markdown",
   "metadata": {},
   "source": [
    "# add user defined Python Layer\n"
   ]
  },
  {
   "cell_type": "markdown",
   "metadata": {},
   "source": [
    "##define python Layer\n",
    "\n",
    "DIGIST에서도 \n",
    "다음과 같이 BlankSquarelayer 를 정의하여 사용할 수 있다. \n",
    "\n",
    "\n"
   ]
  },
  {
   "cell_type": "code",
   "execution_count": null,
   "metadata": {
    "collapsed": true
   },
   "outputs": [],
   "source": [
    "import caffe\n",
    "import random\n",
    "\n",
    "class BlankSquareLayer(caffe.Layer):\n",
    "\n",
    "    def setup(self, bottom, top):\n",
    "        assert len(bottom) == 1,            'requires a single layer.bottom'\n",
    "        assert bottom[0].data.ndim >= 3,    'requires image data'\n",
    "        assert len(top) == 1,               'requires a single layer.top'\n",
    "\n",
    "    def reshape(self, bottom, top):\n",
    "        # Copy shape from bottom\n",
    "        top[0].reshape(*bottom[0].data.shape)\n",
    "\n",
    "    def forward(self, bottom, top):\n",
    "        # Copy all of the data\n",
    "        top[0].data[...] = bottom[0].data[...]\n",
    "        # Then zero-out one fourth of the image\n",
    "        height = top[0].data.shape[-2]\n",
    "        width = top[0].data.shape[-1]\n",
    "        h_offset = random.randrange(height/2)\n",
    "        w_offset = random.randrange(width/2)\n",
    "        top[0].data[...,\n",
    "                h_offset:(h_offset + height/2),\n",
    "                w_offset:(w_offset + width/2),\n",
    "                ] = 0\n",
    "\n",
    "    def backward(self, top, propagate_down, bottom):\n",
    "        pass"
   ]
  },
  {
   "cell_type": "markdown",
   "metadata": {},
   "source": [
    "##  파일 등록 \n",
    "\n",
    "파일은 다음의 위치에 저장되어 있다.  /home/ubuntu/notebook/class5/layer.py \n"
   ]
  },
  {
   "cell_type": "code",
   "execution_count": 1,
   "metadata": {
    "collapsed": false
   },
   "outputs": [
    {
     "name": "stdout",
     "output_type": "stream",
     "text": [
      "/home/ubuntu/notebook/class5\r\n",
      "layer.py\r\n"
     ]
    }
   ],
   "source": [
    "!pwd && ls layer.py"
   ]
  },
  {
   "cell_type": "markdown",
   "metadata": {},
   "source": [
    "## add layer in model\n",
    "\n",
    "DIGITS의 모델 창에서 protobuf script에 정의된 모델을 넣을 수 있다. \n"
   ]
  },
  {
   "cell_type": "markdown",
   "metadata": {},
   "source": [
    "layer {\n",
    "  name: \"blank_square\"\n",
    "  type: \"Python\"\n",
    "  bottom: \"scale\"\n",
    "  top: \"scale\"\n",
    "  python_param {\n",
    "    module: \"digits_python_layers\"\n",
    "    layer: \"BlankSquareLayer\"\n",
    "  }\n",
    "}"
   ]
  }
 ],
 "metadata": {
  "kernelspec": {
   "display_name": "Python 2",
   "language": "python",
   "name": "python2"
  },
  "language_info": {
   "codemirror_mode": {
    "name": "ipython",
    "version": 2
   },
   "file_extension": ".py",
   "mimetype": "text/x-python",
   "name": "python",
   "nbconvert_exporter": "python",
   "pygments_lexer": "ipython2",
   "version": "2.7.10"
  }
 },
 "nbformat": 4,
 "nbformat_minor": 0
}
