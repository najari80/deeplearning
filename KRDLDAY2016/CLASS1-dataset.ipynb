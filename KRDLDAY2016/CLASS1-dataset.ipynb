{
 "cells": [
  {
   "cell_type": "markdown",
   "metadata": {},
   "source": [
    "#CIFAR10 \n",
    "\n",
    "\n",
    "CIFAR10은 10개의 카테고리로 분류된 32x32 컬러 이미지의 모음입니다. \n",
    "\n",
    "DIGITS은 테스트용도로 CIFAR10 데이터를 받을 수 있는 스크립트를 제공합니다.\n",
    "\n",
    "/home/ubuntu/DIGITS/tools/download_data/main.py \n",
    "\n",
    "다음과 같이 명령을 실행하면 웹에서 데이터를 다운로드하여 \n",
    "./home/ubuntu/data/cifar10 디렉토리에 압축을 푼다음 데이터 준비작업을 실행합니다. \n",
    "\n",
    "./main.py cifar10 ./home/ubuntu/data/cifar10\n",
    "\n",
    "du 명령어로 디렉토리 구조를 살펴볼 수 있습니다. "
   ]
  },
  {
   "cell_type": "code",
   "execution_count": 2,
   "metadata": {
    "collapsed": false
   },
   "outputs": [
    {
     "name": "stdout",
     "output_type": "stream",
     "text": [
      "20M\t/home/ubuntu/data/cifar10/train/frog\n",
      "20M\t/home/ubuntu/data/cifar10/train/horse\n",
      "20M\t/home/ubuntu/data/cifar10/train/bird\n",
      "20M\t/home/ubuntu/data/cifar10/train/dog\n",
      "20M\t/home/ubuntu/data/cifar10/train/automobile\n",
      "20M\t/home/ubuntu/data/cifar10/train/cat\n",
      "20M\t/home/ubuntu/data/cifar10/train/truck\n",
      "20M\t/home/ubuntu/data/cifar10/train/ship\n",
      "20M\t/home/ubuntu/data/cifar10/train/deer\n",
      "20M\t/home/ubuntu/data/cifar10/train/airplane\n",
      "201M\t/home/ubuntu/data/cifar10/train\n",
      "4.0M\t/home/ubuntu/data/cifar10/test/frog\n",
      "4.0M\t/home/ubuntu/data/cifar10/test/horse\n",
      "4.0M\t/home/ubuntu/data/cifar10/test/bird\n",
      "4.0M\t/home/ubuntu/data/cifar10/test/dog\n",
      "4.0M\t/home/ubuntu/data/cifar10/test/automobile\n",
      "4.0M\t/home/ubuntu/data/cifar10/test/cat\n",
      "4.0M\t/home/ubuntu/data/cifar10/test/truck\n",
      "4.0M\t/home/ubuntu/data/cifar10/test/ship\n",
      "4.0M\t/home/ubuntu/data/cifar10/test/deer\n",
      "4.0M\t/home/ubuntu/data/cifar10/test/airplane\n",
      "41M\t/home/ubuntu/data/cifar10/test\n",
      "178M\t/home/ubuntu/data/cifar10/cifar-10-batches-py\n",
      "582M\t/home/ubuntu/data/cifar10\n"
     ]
    }
   ],
   "source": [
    "!du -h /home/ubuntu/data/cifar10"
   ]
  },
  {
   "cell_type": "markdown",
   "metadata": {},
   "source": [
    "#prepare Dataset in DIGITS\n",
    "\n",
    "DIGITS UI를 사용하면 준비된 데이터셋을 DB로 만드는 작업을 수행할 수 있습니다.\n",
    "\n"
   ]
  },
  {
   "cell_type": "code",
   "execution_count": null,
   "metadata": {
    "collapsed": true
   },
   "outputs": [],
   "source": []
  },
  {
   "cell_type": "code",
   "execution_count": null,
   "metadata": {
    "collapsed": true
   },
   "outputs": [],
   "source": []
  }
 ],
 "metadata": {
  "kernelspec": {
   "display_name": "Python 2",
   "language": "python",
   "name": "python2"
  },
  "language_info": {
   "codemirror_mode": {
    "name": "ipython",
    "version": 2
   },
   "file_extension": ".py",
   "mimetype": "text/x-python",
   "name": "python",
   "nbconvert_exporter": "python",
   "pygments_lexer": "ipython2",
   "version": "2.7.10"
  }
 },
 "nbformat": 4,
 "nbformat_minor": 0
}
