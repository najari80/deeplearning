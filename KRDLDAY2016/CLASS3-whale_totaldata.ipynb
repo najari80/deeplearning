{
 "cells": [
  {
   "cell_type": "markdown",
   "metadata": {},
   "source": [
    "#Step1. linux sh\n",
    "\n",
    "리눅스 명령어를 통해서 현재 디렉토리를 확인합니다."
   ]
  },
  {
   "cell_type": "code",
   "execution_count": 1,
   "metadata": {
    "collapsed": true
   },
   "outputs": [
    {
     "name": "stdout",
     "output_type": "stream",
     "text": [
      "/home/ubuntu/notebook/class3\r\n"
     ]
    }
   ],
   "source": [
    "!pwd"
   ]
  },
  {
   "cell_type": "code",
   "execution_count": 2,
   "metadata": {
    "collapsed": true
   },
   "outputs": [
    {
     "name": "stdout",
     "output_type": "stream",
     "text": [
      "CLASS3-whale_totaldata.ipynb  train_sort500.csv     train_sort.csv\r\n",
      "train.csv\t\t      train_sort500_id.csv  whale\r\n"
     ]
    }
   ],
   "source": [
    "!ls"
   ]
  },
  {
   "cell_type": "markdown",
   "metadata": {},
   "source": [
    "#step2. Whale recognition Dataset\n",
    "\n",
    "whale folder에 kaggle에서 제공한 7GB에 해당하는 데이터셋이 들어 있습니다. 단, 15% 이미지 축소 되어 있습니다. "
   ]
  },
  {
   "cell_type": "code",
   "execution_count": 3,
   "metadata": {
    "collapsed": true
   },
   "outputs": [
    {
     "name": "stdout",
     "output_type": "stream",
     "text": [
      "348M\twhale\r\n"
     ]
    }
   ],
   "source": [
    "!du -h whale"
   ]
  },
  {
   "cell_type": "code",
   "execution_count": 4,
   "metadata": {
    "collapsed": true
   },
   "outputs": [
    {
     "name": "stdout",
     "output_type": "stream",
     "text": [
      "w_0.jpg\r\n",
      "w_10000.jpg\r\n",
      "w_10001.jpg\r\n",
      "w_10002.jpg\r\n",
      "w_10003.jpg\r\n",
      "w_10004.jpg\r\n",
      "w_10005.jpg\r\n",
      "w_10006.jpg\r\n",
      "w_10007.jpg\r\n",
      "w_10008.jpg\r\n"
     ]
    }
   ],
   "source": [
    "!ls whale > filelist.txt && head filelist.txt"
   ]
  },
  {
   "cell_type": "markdown",
   "metadata": {},
   "source": [
    "#Step3. view img files\n",
    "\n",
    "Ipython의 Image 명령을 통해 파일을 열어볼 수 있습니다."
   ]
  },
  {
   "cell_type": "code",
   "execution_count": 5,
   "metadata": {
    "collapsed": true
   },
   "outputs": [
    {
     "data": {
      "image/jpeg": "[encoded data removed]",
      "text/plain": [
       "<IPython.core.display.Image object>"
      ]
     },
     "execution_count": 5,
     "metadata": {},
     "output_type": "execute_result"
    }
   ],
   "source": [
    "from IPython.display import Image\n",
    "Image(\"./whale/w_0.jpg\")"
   ]
  },
  {
   "cell_type": "markdown",
   "metadata": {},
   "source": [
    "#step4. seperate train/test datset\n",
    "\n",
    "Kaggle데이터셋은 train.csv 파일을 통해 train을 위한 데이터 목록 제공합니다. \n",
    "실습폴더에 복사해서 사용하면 됩니다. \n",
    "\n",
    "train.csv에 존재하지 않는 파일은 test 데이터셋을 의미합니다.\n",
    "train.csv 파일에는 고래 이미지 파일명과 각 고래의 ID의 쌍으로 된 데이터를 제공합니다\n"
   ]
  },
  {
   "cell_type": "code",
   "execution_count": 6,
   "metadata": {
    "collapsed": false
   },
   "outputs": [],
   "source": [
    "!cp /home/ubuntu/dlday/train.csv ./."
   ]
  },
  {
   "cell_type": "code",
   "execution_count": 7,
   "metadata": {
    "collapsed": true
   },
   "outputs": [
    {
     "name": "stdout",
     "output_type": "stream",
     "text": [
      "Image,whaleID\r\n",
      "w_7812.jpg,whale_48813\r\n",
      "w_4598.jpg,whale_09913\r\n",
      "w_3828.jpg,whale_45062\r\n",
      "w_8734.jpg,whale_74162\r\n",
      "w_3251.jpg,whale_99558\r\n",
      "w_8063.jpg,whale_59255\r\n",
      "w_5624.jpg,whale_87291\r\n",
      "w_825.jpg,whale_33152\r\n",
      "w_3974.jpg,whale_88147\r\n"
     ]
    }
   ],
   "source": [
    "!head train.csv"
   ]
  },
  {
   "cell_type": "markdown",
   "metadata": {},
   "source": [
    "아래의 파이썬 코드는 \n",
    "\n",
    " 폴더의 데이터 중 train.csv 파일에 존재하는 파일만 \n",
    "\n",
    "train 폴더로  복사하여  train dataset과 test dataset을 나누는 작업이 이루어 집니다. \n",
    "\n",
    "아래 파이썬 코드에서는 csv 파일명과 폴더명을 지정하도록 되어 있습니다."
   ]
  },
  {
   "cell_type": "code",
   "execution_count": 10,
   "metadata": {
    "collapsed": true
   },
   "outputs": [
    {
     "name": "stdout",
     "output_type": "stream",
     "text": [
      "w_7489.jpg \n"
     ]
    }
   ],
   "source": [
    "import os\n",
    "import pandas as pd\n",
    "\n",
    "train = pd.read_csv('train.csv', index_col='Image')\n",
    "os.makedirs('./whale_train/')\n",
    "# copy image from original folder to sub folder\n",
    "for image in train.index:\n",
    "  old = './whale/{}'.format(image)\n",
    "  new = './whale_train/{}'.format(image)\n",
    "  try:\n",
    "    os.rename(old, new)\n",
    "  except:\n",
    "    print('{} '.format(image))"
   ]
  },
  {
   "cell_type": "markdown",
   "metadata": {},
   "source": [
    "\n",
    "du 명령을 통해서 살펴보면 imgs_subset 폴더는 test 데이터셋이, imgs_subset_train에는 train용 데이터셋이 있는 것을 확인할 수 있습니다. \n",
    "본 실습에서는 train 데이터셋을 이용하여 작업을 하게 됩니다.\n"
   ]
  },
  {
   "cell_type": "code",
   "execution_count": 11,
   "metadata": {
    "collapsed": true
   },
   "outputs": [
    {
     "name": "stdout",
     "output_type": "stream",
     "text": [
      "213M\twhale\r\n",
      "136M\twhale_train\r\n"
     ]
    }
   ],
   "source": [
    "!du -h whale && du -h whale_train"
   ]
  },
  {
   "cell_type": "code",
   "execution_count": 12,
   "metadata": {
    "collapsed": true
   },
   "outputs": [
    {
     "name": "stdout",
     "output_type": "stream",
     "text": [
      "w_1000.jpg\r\n",
      "w_1003.jpg\r\n",
      "w_1004.jpg\r\n",
      "w_1005.jpg\r\n",
      "w_1006.jpg\r\n",
      "w_1007.jpg\r\n",
      "w_100.jpg\r\n",
      "w_1011.jpg\r\n",
      "w_1012.jpg\r\n",
      "w_1014.jpg\r\n"
     ]
    }
   ],
   "source": [
    "!ls whale_train > trainfiles.txt && head trainfiles.txt"
   ]
  },
  {
   "cell_type": "markdown",
   "metadata": {},
   "source": [
    "#step5. label subfolder 제작 \n",
    "\n",
    "DIGITS 데이터셋을 준비하기 위한 제일 중요한 동작입니다. \n",
    "\n",
    "DIGITS는 데이터셋 폴더 아래에 라벨에 해당하는 폴더를 가지고 있어야 합니다. \n",
    "\n",
    "\n",
    "아래  파이썬 코드는 다음의 작업을 수행합니다.\n",
    "\n",
    "1. train.csv 파일을 읽어들임.\n",
    "2. 저장할 폴더 설정 \n",
    "3. whale ID를 인식하여 subfolder를 생성하고 파일을 이동함"
   ]
  },
  {
   "cell_type": "code",
   "execution_count": 13,
   "metadata": {
    "collapsed": true
   },
   "outputs": [
    {
     "name": "stdout",
     "output_type": "stream",
     "text": [
      "w_7489.jpg - whale_70138\n"
     ]
    }
   ],
   "source": [
    "\n",
    "import os\n",
    "import pandas as pd\n",
    "\n",
    "train = pd.read_csv('train.csv', index_col='Image')\n",
    "#foldername of whale ID\n",
    "whaleIDs = list(train['whaleID'].unique())\n",
    "#make subdirectory with whale ID\n",
    "for w in whaleIDs:\n",
    "  os.makedirs('./whale_train_subfolder/'+w)\n",
    "# copy image from original folder to sub folder\n",
    "for image in train.index:\n",
    "  folder = train.loc[image, 'whaleID']\n",
    "  old = './whale_train/{}'.format(image)\n",
    "  new = './whale_train_subfolder/{}/{}'.format(folder, image)\n",
    "  try:\n",
    "    os.rename(old, new)\n",
    "  except:\n",
    "    print('{} - {}'.format(image,folder))"
   ]
  },
  {
   "cell_type": "markdown",
   "metadata": {},
   "source": [
    "각 폴더를 확인해 보면 \n",
    "\n",
    "데이터 폴더 내에 각 고래 아이디 별로 폴더가 생성된 것을 확인할 수 있습니다. \n",
    "또한, 하나의 폴더를 선택하여 그 안에 들어있는 파일 목록을 확인해볼 수 있습니다. \n",
    "실습을 위해 500장 imgs_subset 데이터 중 train 데이터셋만 활용하였기 때문에 \n",
    "각각의 고래 아이디당 많지 않은 이미지만 들어있는 것을 확인할 수 있습니다. "
   ]
  },
  {
   "cell_type": "code",
   "execution_count": 14,
   "metadata": {
    "collapsed": true
   },
   "outputs": [
    {
     "name": "stdout",
     "output_type": "stream",
     "text": [
      "228K\t./whale_train_subfolder/whale_36154\r\n",
      "92K\t./whale_train_subfolder/whale_22059\r\n",
      "152K\t./whale_train_subfolder/whale_30074\r\n",
      "948K\t./whale_train_subfolder/whale_65586\r\n",
      "52K\t./whale_train_subfolder/whale_04480\r\n",
      "236K\t./whale_train_subfolder/whale_95831\r\n",
      "476K\t./whale_train_subfolder/whale_36300\r\n",
      "60K\t./whale_train_subfolder/whale_16762\r\n",
      "300K\t./whale_train_subfolder/whale_22297\r\n",
      "832K\t./whale_train_subfolder/whale_48813\r\n",
      "28K\t./whale_train_subfolder/whale_77984\r\n",
      "472K\t./whale_train_subfolder/whale_06069\r\n",
      "108K\t./whale_train_subfolder/whale_38302\r\n",
      "92K\t./whale_train_subfolder/whale_90141\r\n",
      "32K\t./whale_train_subfolder/whale_56281\r\n",
      "200K\t./whale_train_subfolder/whale_16738\r\n",
      "412K\t./whale_train_subfolder/whale_12820\r\n",
      "500K\t./whale_train_subfolder/whale_59173\r\n",
      "1.3M\t./whale_train_subfolder/whale_55079\r\n",
      "176K\t./whale_train_subfolder/whale_82064\r\n",
      "236K\t./whale_train_subfolder/whale_44071\r\n",
      "308K\t./whale_train_subfolder/whale_84178\r\n",
      "192K\t./whale_train_subfolder/whale_74162\r\n",
      "748K\t./whale_train_subfolder/whale_68116\r\n",
      "168K\t./whale_train_subfolder/whale_08637\r\n",
      "760K\t./whale_train_subfolder/whale_66353\r\n",
      "360K\t./whale_train_subfolder/whale_83892\r\n",
      "252K\t./whale_train_subfolder/whale_69619\r\n",
      "28K\t./whale_train_subfolder/whale_45294\r\n",
      "512K\t./whale_train_subfolder/whale_69459\r\n",
      "368K\t./whale_train_subfolder/whale_37658\r\n",
      "372K\t./whale_train_subfolder/whale_75413\r\n",
      "384K\t./whale_train_subfolder/whale_82387\r\n",
      "312K\t./whale_train_subfolder/whale_99573\r\n",
      "296K\t./whale_train_subfolder/whale_53889\r\n",
      "388K\t./whale_train_subfolder/whale_72235\r\n",
      "160K\t./whale_train_subfolder/whale_89541\r\n",
      "140K\t./whale_train_subfolder/whale_38817\r\n",
      "128K\t./whale_train_subfolder/whale_49277\r\n",
      "256K\t./whale_train_subfolder/whale_84264\r\n",
      "224K\t./whale_train_subfolder/whale_91826\r\n",
      "364K\t./whale_train_subfolder/whale_74625\r\n",
      "468K\t./whale_train_subfolder/whale_81136\r\n",
      "128K\t./whale_train_subfolder/whale_80124\r\n",
      "568K\t./whale_train_subfolder/whale_53079\r\n",
      "216K\t./whale_train_subfolder/whale_88746\r\n",
      "20K\t./whale_train_subfolder/whale_08729\r\n",
      "684K\t./whale_train_subfolder/whale_77693\r\n",
      "740K\t./whale_train_subfolder/whale_17604\r\n",
      "76K\t./whale_train_subfolder/whale_14094\r\n",
      "196K\t./whale_train_subfolder/whale_71062\r\n",
      "32K\t./whale_train_subfolder/whale_88226\r\n",
      "256K\t./whale_train_subfolder/whale_29858\r\n",
      "340K\t./whale_train_subfolder/whale_03935\r\n",
      "32K\t./whale_train_subfolder/whale_66539\r\n",
      "372K\t./whale_train_subfolder/whale_08181\r\n",
      "144K\t./whale_train_subfolder/whale_67614\r\n",
      "140K\t./whale_train_subfolder/whale_07331\r\n",
      "136K\t./whale_train_subfolder/whale_12085\r\n",
      "312K\t./whale_train_subfolder/whale_68789\r\n",
      "252K\t./whale_train_subfolder/whale_58010\r\n",
      "132K\t./whale_train_subfolder/whale_75215\r\n",
      "252K\t./whale_train_subfolder/whale_42191\r\n",
      "288K\t./whale_train_subfolder/whale_23574\r\n",
      "864K\t./whale_train_subfolder/whale_06339\r\n",
      "140K\t./whale_train_subfolder/whale_52998\r\n",
      "552K\t./whale_train_subfolder/whale_86585\r\n",
      "660K\t./whale_train_subfolder/whale_89615\r\n",
      "592K\t./whale_train_subfolder/whale_48415\r\n",
      "432K\t./whale_train_subfolder/whale_64989\r\n",
      "228K\t./whale_train_subfolder/whale_86527\r\n",
      "392K\t./whale_train_subfolder/whale_48386\r\n",
      "272K\t./whale_train_subfolder/whale_73592\r\n",
      "1.5M\t./whale_train_subfolder/whale_38681\r\n",
      "316K\t./whale_train_subfolder/whale_04397\r\n",
      "292K\t./whale_train_subfolder/whale_86206\r\n",
      "164K\t./whale_train_subfolder/whale_41881\r\n",
      "672K\t./whale_train_subfolder/whale_37154\r\n",
      "60K\t./whale_train_subfolder/whale_16576\r\n",
      "628K\t./whale_train_subfolder/whale_34656\r\n",
      "620K\t./whale_train_subfolder/whale_82548\r\n",
      "104K\t./whale_train_subfolder/whale_34813\r\n",
      "140K\t./whale_train_subfolder/whale_40190\r\n",
      "792K\t./whale_train_subfolder/whale_78372\r\n",
      "608K\t./whale_train_subfolder/whale_59255\r\n",
      "440K\t./whale_train_subfolder/whale_52342\r\n",
      "240K\t./whale_train_subfolder/whale_94176\r\n",
      "76K\t./whale_train_subfolder/whale_54850\r\n",
      "316K\t./whale_train_subfolder/whale_96385\r\n",
      "176K\t./whale_train_subfolder/whale_29294\r\n",
      "396K\t./whale_train_subfolder/whale_36231\r\n",
      "348K\t./whale_train_subfolder/whale_82602\r\n",
      "548K\t./whale_train_subfolder/whale_97688\r\n",
      "224K\t./whale_train_subfolder/whale_85670\r\n",
      "32K\t./whale_train_subfolder/whale_40483\r\n",
      "312K\t./whale_train_subfolder/whale_98507\r\n",
      "152K\t./whale_train_subfolder/whale_27820\r\n",
      "112K\t./whale_train_subfolder/whale_23467\r\n",
      "52K\t./whale_train_subfolder/whale_48633\r\n",
      "160K\t./whale_train_subfolder/whale_04373\r\n",
      "240K\t./whale_train_subfolder/whale_98633\r\n",
      "244K\t./whale_train_subfolder/whale_79439\r\n",
      "888K\t./whale_train_subfolder/whale_70138\r\n",
      "632K\t./whale_train_subfolder/whale_40169\r\n",
      "168K\t./whale_train_subfolder/whale_92465\r\n",
      "556K\t./whale_train_subfolder/whale_17785\r\n",
      "128K\t./whale_train_subfolder/whale_57251\r\n",
      "512K\t./whale_train_subfolder/whale_25715\r\n",
      "316K\t./whale_train_subfolder/whale_18158\r\n",
      "276K\t./whale_train_subfolder/whale_39293\r\n",
      "196K\t./whale_train_subfolder/whale_62939\r\n",
      "796K\t./whale_train_subfolder/whale_78280\r\n",
      "216K\t./whale_train_subfolder/whale_74683\r\n",
      "264K\t./whale_train_subfolder/whale_78395\r\n",
      "288K\t./whale_train_subfolder/whale_19906\r\n",
      "236K\t./whale_train_subfolder/whale_18845\r\n",
      "548K\t./whale_train_subfolder/whale_94546\r\n",
      "384K\t./whale_train_subfolder/whale_43045\r\n",
      "40K\t./whale_train_subfolder/whale_13701\r\n",
      "164K\t./whale_train_subfolder/whale_96240\r\n",
      "252K\t./whale_train_subfolder/whale_37654\r\n",
      "436K\t./whale_train_subfolder/whale_13288\r\n",
      "492K\t./whale_train_subfolder/whale_03728\r\n",
      "180K\t./whale_train_subfolder/whale_35430\r\n",
      "296K\t./whale_train_subfolder/whale_19027\r\n",
      "564K\t./whale_train_subfolder/whale_39915\r\n",
      "412K\t./whale_train_subfolder/whale_47734\r\n",
      "124K\t./whale_train_subfolder/whale_78628\r\n",
      "444K\t./whale_train_subfolder/whale_88547\r\n",
      "52K\t./whale_train_subfolder/whale_87420\r\n",
      "20K\t./whale_train_subfolder/whale_54497\r\n",
      "280K\t./whale_train_subfolder/whale_78785\r\n",
      "188K\t./whale_train_subfolder/whale_15078\r\n",
      "428K\t./whale_train_subfolder/whale_09651\r\n",
      "536K\t./whale_train_subfolder/whale_81768\r\n",
      "512K\t./whale_train_subfolder/whale_87291\r\n",
      "292K\t./whale_train_subfolder/whale_44747\r\n",
      "680K\t./whale_train_subfolder/whale_32198\r\n",
      "520K\t./whale_train_subfolder/whale_67036\r\n",
      "232K\t./whale_train_subfolder/whale_15519\r\n",
      "424K\t./whale_train_subfolder/whale_61461\r\n",
      "696K\t./whale_train_subfolder/whale_85464\r\n",
      "156K\t./whale_train_subfolder/whale_52100\r\n",
      "288K\t./whale_train_subfolder/whale_15615\r\n",
      "544K\t./whale_train_subfolder/whale_81875\r\n",
      "364K\t./whale_train_subfolder/whale_79199\r\n",
      "764K\t./whale_train_subfolder/whale_48966\r\n",
      "104K\t./whale_train_subfolder/whale_05140\r\n",
      "36K\t./whale_train_subfolder/whale_47768\r\n",
      "108K\t./whale_train_subfolder/whale_39674\r\n",
      "104K\t./whale_train_subfolder/whale_76398\r\n",
      "272K\t./whale_train_subfolder/whale_25659\r\n",
      "500K\t./whale_train_subfolder/whale_35844\r\n",
      "428K\t./whale_train_subfolder/whale_72327\r\n",
      "368K\t./whale_train_subfolder/whale_89456\r\n",
      "132K\t./whale_train_subfolder/whale_65263\r\n",
      "256K\t./whale_train_subfolder/whale_27221\r\n",
      "476K\t./whale_train_subfolder/whale_73080\r\n",
      "216K\t./whale_train_subfolder/whale_74062\r\n",
      "604K\t./whale_train_subfolder/whale_51195\r\n",
      "400K\t./whale_train_subfolder/whale_18989\r\n",
      "520K\t./whale_train_subfolder/whale_08017\r\n",
      "24K\t./whale_train_subfolder/whale_54796\r\n",
      "308K\t./whale_train_subfolder/whale_84963\r\n",
      "128K\t./whale_train_subfolder/whale_35004\r\n",
      "92K\t./whale_train_subfolder/whale_49491\r\n",
      "32K\t./whale_train_subfolder/whale_17327\r\n",
      "100K\t./whale_train_subfolder/whale_22118\r\n",
      "460K\t./whale_train_subfolder/whale_33152\r\n",
      "316K\t./whale_train_subfolder/whale_87622\r\n",
      "292K\t./whale_train_subfolder/whale_10977\r\n",
      "196K\t./whale_train_subfolder/whale_67407\r\n",
      "144K\t./whale_train_subfolder/whale_43961\r\n",
      "88K\t./whale_train_subfolder/whale_43326\r\n",
      "308K\t./whale_train_subfolder/whale_10021\r\n",
      "168K\t./whale_train_subfolder/whale_54920\r\n",
      "140K\t./whale_train_subfolder/whale_13863\r\n",
      "604K\t./whale_train_subfolder/whale_05349\r\n",
      "244K\t./whale_train_subfolder/whale_74828\r\n",
      "164K\t./whale_train_subfolder/whale_23367\r\n",
      "488K\t./whale_train_subfolder/whale_62655\r\n",
      "396K\t./whale_train_subfolder/whale_39689\r\n",
      "460K\t./whale_train_subfolder/whale_75932\r\n",
      "248K\t./whale_train_subfolder/whale_08700\r\n",
      "448K\t./whale_train_subfolder/whale_13789\r\n",
      "56K\t./whale_train_subfolder/whale_64299\r\n",
      "40K\t./whale_train_subfolder/whale_07483\r\n",
      "740K\t./whale_train_subfolder/whale_98151\r\n",
      "316K\t./whale_train_subfolder/whale_07863\r\n",
      "212K\t./whale_train_subfolder/whale_33195\r\n",
      "384K\t./whale_train_subfolder/whale_55333\r\n",
      "304K\t./whale_train_subfolder/whale_67685\r\n",
      "120K\t./whale_train_subfolder/whale_31739\r\n",
      "120K\t./whale_train_subfolder/whale_06997\r\n",
      "896K\t./whale_train_subfolder/whale_87604\r\n",
      "336K\t./whale_train_subfolder/whale_79166\r\n",
      "64K\t./whale_train_subfolder/whale_79948\r\n",
      "444K\t./whale_train_subfolder/whale_07647\r\n",
      "348K\t./whale_train_subfolder/whale_78565\r\n",
      "168K\t./whale_train_subfolder/whale_28263\r\n",
      "68K\t./whale_train_subfolder/whale_75682\r\n",
      "448K\t./whale_train_subfolder/whale_90244\r\n",
      "264K\t./whale_train_subfolder/whale_04540\r\n",
      "420K\t./whale_train_subfolder/whale_60921\r\n",
      "28K\t./whale_train_subfolder/whale_51332\r\n",
      "116K\t./whale_train_subfolder/whale_44699\r\n",
      "72K\t./whale_train_subfolder/whale_60451\r\n",
      "64K\t./whale_train_subfolder/whale_23118\r\n",
      "32K\t./whale_train_subfolder/whale_03103\r\n",
      "136K\t./whale_train_subfolder/whale_92686\r\n",
      "460K\t./whale_train_subfolder/whale_72820\r\n",
      "208K\t./whale_train_subfolder/whale_40885\r\n",
      "84K\t./whale_train_subfolder/whale_36648\r\n",
      "420K\t./whale_train_subfolder/whale_99558\r\n",
      "228K\t./whale_train_subfolder/whale_49135\r\n",
      "296K\t./whale_train_subfolder/whale_63816\r\n",
      "532K\t./whale_train_subfolder/whale_06967\r\n",
      "112K\t./whale_train_subfolder/whale_61924\r\n",
      "396K\t./whale_train_subfolder/whale_03623\r\n",
      "288K\t./whale_train_subfolder/whale_49530\r\n",
      "156K\t./whale_train_subfolder/whale_74935\r\n",
      "228K\t./whale_train_subfolder/whale_58474\r\n",
      "456K\t./whale_train_subfolder/whale_08439\r\n",
      "328K\t./whale_train_subfolder/whale_41776\r\n",
      "280K\t./whale_train_subfolder/whale_38191\r\n",
      "104K\t./whale_train_subfolder/whale_46974\r\n",
      "356K\t./whale_train_subfolder/whale_80947\r\n",
      "76K\t./whale_train_subfolder/whale_51114\r\n",
      "200K\t./whale_train_subfolder/whale_90446\r\n",
      "32K\t./whale_train_subfolder/whale_22848\r\n",
      "304K\t./whale_train_subfolder/whale_66711\r\n",
      "476K\t./whale_train_subfolder/whale_29569\r\n",
      "396K\t./whale_train_subfolder/whale_31594\r\n",
      "636K\t./whale_train_subfolder/whale_32087\r\n",
      "152K\t./whale_train_subfolder/whale_98618\r\n",
      "392K\t./whale_train_subfolder/whale_55861\r\n",
      "744K\t./whale_train_subfolder/whale_35594\r\n",
      "672K\t./whale_train_subfolder/whale_23821\r\n",
      "264K\t./whale_train_subfolder/whale_73684\r\n",
      "876K\t./whale_train_subfolder/whale_36851\r\n",
      "204K\t./whale_train_subfolder/whale_21213\r\n",
      "324K\t./whale_train_subfolder/whale_57338\r\n",
      "216K\t./whale_train_subfolder/whale_33961\r\n",
      "288K\t./whale_train_subfolder/whale_38543\r\n",
      "24K\t./whale_train_subfolder/whale_22212\r\n",
      "380K\t./whale_train_subfolder/whale_05661\r\n",
      "676K\t./whale_train_subfolder/whale_98645\r\n",
      "68K\t./whale_train_subfolder/whale_88432\r\n",
      "372K\t./whale_train_subfolder/whale_34798\r\n",
      "576K\t./whale_train_subfolder/whale_23525\r\n",
      "388K\t./whale_train_subfolder/whale_46169\r\n",
      "1.2M\t./whale_train_subfolder/whale_95370\r\n",
      "248K\t./whale_train_subfolder/whale_33723\r\n",
      "120K\t./whale_train_subfolder/whale_97882\r\n",
      "48K\t./whale_train_subfolder/whale_26212\r\n",
      "96K\t./whale_train_subfolder/whale_27834\r\n",
      "508K\t./whale_train_subfolder/whale_24815\r\n",
      "204K\t./whale_train_subfolder/whale_61260\r\n",
      "596K\t./whale_train_subfolder/whale_43971\r\n",
      "216K\t./whale_train_subfolder/whale_67801\r\n",
      "288K\t./whale_train_subfolder/whale_09181\r\n",
      "268K\t./whale_train_subfolder/whale_80405\r\n",
      "552K\t./whale_train_subfolder/whale_51538\r\n",
      "172K\t./whale_train_subfolder/whale_88756\r\n",
      "284K\t./whale_train_subfolder/whale_79648\r\n",
      "248K\t./whale_train_subfolder/whale_02608\r\n",
      "152K\t./whale_train_subfolder/whale_55550\r\n",
      "392K\t./whale_train_subfolder/whale_22448\r\n",
      "392K\t./whale_train_subfolder/whale_37269\r\n",
      "172K\t./whale_train_subfolder/whale_75455\r\n",
      "148K\t./whale_train_subfolder/whale_14626\r\n",
      "548K\t./whale_train_subfolder/whale_54574\r\n",
      "160K\t./whale_train_subfolder/whale_03990\r\n",
      "124K\t./whale_train_subfolder/whale_65737\r\n",
      "352K\t./whale_train_subfolder/whale_64496\r\n",
      "376K\t./whale_train_subfolder/whale_28384\r\n",
      "272K\t./whale_train_subfolder/whale_49832\r\n",
      "368K\t./whale_train_subfolder/whale_74439\r\n",
      "144K\t./whale_train_subfolder/whale_83157\r\n",
      "300K\t./whale_train_subfolder/whale_90820\r\n",
      "76K\t./whale_train_subfolder/whale_81915\r\n",
      "136K\t./whale_train_subfolder/whale_49237\r\n",
      "616K\t./whale_train_subfolder/whale_26288\r\n",
      "772K\t./whale_train_subfolder/whale_66852\r\n",
      "812K\t./whale_train_subfolder/whale_30331\r\n",
      "328K\t./whale_train_subfolder/whale_86158\r\n",
      "312K\t./whale_train_subfolder/whale_17601\r\n",
      "204K\t./whale_train_subfolder/whale_53580\r\n",
      "200K\t./whale_train_subfolder/whale_15079\r\n",
      "60K\t./whale_train_subfolder/whale_61728\r\n",
      "232K\t./whale_train_subfolder/whale_17528\r\n",
      "216K\t./whale_train_subfolder/whale_11625\r\n",
      "44K\t./whale_train_subfolder/whale_38437\r\n",
      "32K\t./whale_train_subfolder/whale_97440\r\n",
      "584K\t./whale_train_subfolder/whale_03227\r\n",
      "616K\t./whale_train_subfolder/whale_90911\r\n",
      "224K\t./whale_train_subfolder/whale_51603\r\n",
      "188K\t./whale_train_subfolder/whale_04435\r\n",
      "240K\t./whale_train_subfolder/whale_60729\r\n",
      "80K\t./whale_train_subfolder/whale_48024\r\n",
      "612K\t./whale_train_subfolder/whale_80247\r\n",
      "160K\t./whale_train_subfolder/whale_00442\r\n",
      "228K\t./whale_train_subfolder/whale_63541\r\n",
      "476K\t./whale_train_subfolder/whale_47700\r\n",
      "412K\t./whale_train_subfolder/whale_90271\r\n",
      "552K\t./whale_train_subfolder/whale_41805\r\n",
      "300K\t./whale_train_subfolder/whale_09454\r\n",
      "124K\t./whale_train_subfolder/whale_68774\r\n",
      "420K\t./whale_train_subfolder/whale_98939\r\n",
      "144K\t./whale_train_subfolder/whale_21873\r\n",
      "96K\t./whale_train_subfolder/whale_49210\r\n",
      "480K\t./whale_train_subfolder/whale_87155\r\n",
      "216K\t./whale_train_subfolder/whale_37014\r\n",
      "720K\t./whale_train_subfolder/whale_38008\r\n",
      "192K\t./whale_train_subfolder/whale_70904\r\n",
      "692K\t./whale_train_subfolder/whale_73666\r\n",
      "656K\t./whale_train_subfolder/whale_52505\r\n",
      "476K\t./whale_train_subfolder/whale_26686\r\n",
      "520K\t./whale_train_subfolder/whale_58309\r\n",
      "300K\t./whale_train_subfolder/whale_08923\r\n",
      "908K\t./whale_train_subfolder/whale_28892\r\n",
      "104K\t./whale_train_subfolder/whale_79193\r\n",
      "128K\t./whale_train_subfolder/whale_21160\r\n",
      "144K\t./whale_train_subfolder/whale_98996\r\n",
      "272K\t./whale_train_subfolder/whale_66421\r\n",
      "108K\t./whale_train_subfolder/whale_09062\r\n",
      "44K\t./whale_train_subfolder/whale_02839\r\n",
      "204K\t./whale_train_subfolder/whale_64526\r\n",
      "272K\t./whale_train_subfolder/whale_28216\r\n",
      "248K\t./whale_train_subfolder/whale_10005\r\n",
      "352K\t./whale_train_subfolder/whale_23847\r\n",
      "344K\t./whale_train_subfolder/whale_36437\r\n",
      "440K\t./whale_train_subfolder/whale_88147\r\n",
      "136K\t./whale_train_subfolder/whale_73167\r\n",
      "208K\t./whale_train_subfolder/whale_97924\r\n",
      "156K\t./whale_train_subfolder/whale_69084\r\n",
      "404K\t./whale_train_subfolder/whale_45465\r\n",
      "552K\t./whale_train_subfolder/whale_73136\r\n",
      "380K\t./whale_train_subfolder/whale_24730\r\n",
      "244K\t./whale_train_subfolder/whale_08324\r\n",
      "424K\t./whale_train_subfolder/whale_11076\r\n",
      "496K\t./whale_train_subfolder/whale_19041\r\n",
      "360K\t./whale_train_subfolder/whale_45062\r\n",
      "424K\t./whale_train_subfolder/whale_92153\r\n",
      "360K\t./whale_train_subfolder/whale_64634\r\n",
      "272K\t./whale_train_subfolder/whale_29172\r\n",
      "496K\t./whale_train_subfolder/whale_38906\r\n",
      "348K\t./whale_train_subfolder/whale_47858\r\n",
      "44K\t./whale_train_subfolder/whale_45367\r\n",
      "324K\t./whale_train_subfolder/whale_41125\r\n",
      "444K\t./whale_train_subfolder/whale_22101\r\n",
      "124K\t./whale_train_subfolder/whale_09913\r\n",
      "324K\t./whale_train_subfolder/whale_65057\r\n",
      "188K\t./whale_train_subfolder/whale_37301\r\n",
      "1.1M\t./whale_train_subfolder/whale_90957\r\n",
      "368K\t./whale_train_subfolder/whale_41921\r\n",
      "52K\t./whale_train_subfolder/whale_90929\r\n",
      "44K\t./whale_train_subfolder/whale_09422\r\n",
      "352K\t./whale_train_subfolder/whale_58972\r\n",
      "384K\t./whale_train_subfolder/whale_11099\r\n",
      "80K\t./whale_train_subfolder/whale_11708\r\n",
      "716K\t./whale_train_subfolder/whale_33140\r\n",
      "20K\t./whale_train_subfolder/whale_21655\r\n",
      "248K\t./whale_train_subfolder/whale_89211\r\n",
      "104K\t./whale_train_subfolder/whale_23855\r\n",
      "440K\t./whale_train_subfolder/whale_48490\r\n",
      "192K\t./whale_train_subfolder/whale_68338\r\n",
      "164K\t./whale_train_subfolder/whale_20448\r\n",
      "288K\t./whale_train_subfolder/whale_05784\r\n",
      "224K\t./whale_train_subfolder/whale_58747\r\n",
      "164K\t./whale_train_subfolder/whale_90377\r\n",
      "436K\t./whale_train_subfolder/whale_06334\r\n",
      "32K\t./whale_train_subfolder/whale_34513\r\n",
      "180K\t./whale_train_subfolder/whale_16406\r\n",
      "284K\t./whale_train_subfolder/whale_10583\r\n",
      "304K\t./whale_train_subfolder/whale_12074\r\n",
      "248K\t./whale_train_subfolder/whale_97542\r\n",
      "256K\t./whale_train_subfolder/whale_86041\r\n",
      "216K\t./whale_train_subfolder/whale_12609\r\n",
      "264K\t./whale_train_subfolder/whale_14892\r\n",
      "436K\t./whale_train_subfolder/whale_52759\r\n",
      "372K\t./whale_train_subfolder/whale_02411\r\n",
      "244K\t./whale_train_subfolder/whale_24679\r\n",
      "188K\t./whale_train_subfolder/whale_83791\r\n",
      "228K\t./whale_train_subfolder/whale_35426\r\n",
      "484K\t./whale_train_subfolder/whale_00195\r\n",
      "584K\t./whale_train_subfolder/whale_82554\r\n",
      "156K\t./whale_train_subfolder/whale_26654\r\n",
      "156K\t./whale_train_subfolder/whale_64006\r\n",
      "228K\t./whale_train_subfolder/whale_11555\r\n",
      "364K\t./whale_train_subfolder/whale_64714\r\n",
      "136K\t./whale_train_subfolder/whale_75767\r\n",
      "504K\t./whale_train_subfolder/whale_25878\r\n",
      "508K\t./whale_train_subfolder/whale_58362\r\n",
      "120K\t./whale_train_subfolder/whale_15434\r\n",
      "812K\t./whale_train_subfolder/whale_24458\r\n",
      "68K\t./whale_train_subfolder/whale_88085\r\n",
      "260K\t./whale_train_subfolder/whale_81960\r\n",
      "188K\t./whale_train_subfolder/whale_76782\r\n",
      "640K\t./whale_train_subfolder/whale_52749\r\n",
      "372K\t./whale_train_subfolder/whale_50021\r\n",
      "116K\t./whale_train_subfolder/whale_90966\r\n",
      "496K\t./whale_train_subfolder/whale_86377\r\n",
      "72K\t./whale_train_subfolder/whale_69943\r\n",
      "64K\t./whale_train_subfolder/whale_27860\r\n",
      "400K\t./whale_train_subfolder/whale_38894\r\n",
      "272K\t./whale_train_subfolder/whale_92515\r\n",
      "96K\t./whale_train_subfolder/whale_71554\r\n",
      "700K\t./whale_train_subfolder/whale_95091\r\n",
      "80K\t./whale_train_subfolder/whale_05487\r\n",
      "456K\t./whale_train_subfolder/whale_64937\r\n",
      "664K\t./whale_train_subfolder/whale_38288\r\n",
      "316K\t./whale_train_subfolder/whale_88478\r\n",
      "520K\t./whale_train_subfolder/whale_74232\r\n",
      "184K\t./whale_train_subfolder/whale_99326\r\n",
      "96K\t./whale_train_subfolder/whale_27085\r\n",
      "732K\t./whale_train_subfolder/whale_34663\r\n",
      "52K\t./whale_train_subfolder/whale_47062\r\n",
      "180K\t./whale_train_subfolder/whale_12661\r\n",
      "336K\t./whale_train_subfolder/whale_14270\r\n",
      "152K\t./whale_train_subfolder/whale_81818\r\n",
      "120K\t./whale_train_subfolder/whale_20248\r\n",
      "376K\t./whale_train_subfolder/whale_82089\r\n",
      "32K\t./whale_train_subfolder/whale_45728\r\n",
      "188K\t./whale_train_subfolder/whale_07808\r\n",
      "172K\t./whale_train_subfolder/whale_64274\r\n",
      "452K\t./whale_train_subfolder/whale_34488\r\n",
      "20K\t./whale_train_subfolder/whale_86081\r\n",
      "676K\t./whale_train_subfolder/whale_11242\r\n",
      "212K\t./whale_train_subfolder/whale_59627\r\n",
      "256K\t./whale_train_subfolder/whale_67611\r\n",
      "508K\t./whale_train_subfolder/whale_63948\r\n",
      "288K\t./whale_train_subfolder/whale_44127\r\n",
      "272K\t./whale_train_subfolder/whale_99243\r\n",
      "28K\t./whale_train_subfolder/whale_89271\r\n",
      "208K\t./whale_train_subfolder/whale_46747\r\n",
      "580K\t./whale_train_subfolder/whale_79823\r\n",
      "276K\t./whale_train_subfolder/whale_32702\r\n",
      "64K\t./whale_train_subfolder/whale_64903\r\n",
      "152K\t./whale_train_subfolder/whale_66935\r\n",
      "44K\t./whale_train_subfolder/whale_43374\r\n",
      "228K\t./whale_train_subfolder/whale_49877\r\n",
      "204K\t./whale_train_subfolder/whale_48497\r\n",
      "160K\t./whale_train_subfolder/whale_66205\r\n",
      "412K\t./whale_train_subfolder/whale_26397\r\n",
      "480K\t./whale_train_subfolder/whale_98746\r\n",
      "132K\t./whale_train_subfolder/whale_32021\r\n",
      "137M\t./whale_train_subfolder\r\n"
     ]
    }
   ],
   "source": [
    "!du -h ./whale_train_subfolder"
   ]
  },
  {
   "cell_type": "markdown",
   "metadata": {},
   "source": [
    "마지막으로 데이터셋의 위치를 확인합니다\n",
    "\n"
   ]
  },
  {
   "cell_type": "code",
   "execution_count": 15,
   "metadata": {
    "collapsed": false
   },
   "outputs": [
    {
     "name": "stdout",
     "output_type": "stream",
     "text": [
      "/home/ubuntu/notebook/class3\r\n",
      "CLASS3-whale_totaldata.ipynb  train_sort500.csv     whale_train\r\n",
      "filelist.txt\t\t      train_sort500_id.csv  whale_train_subfolder\r\n",
      "train.csv\t\t      train_sort.csv\r\n",
      "trainfiles.txt\t\t      whale\r\n"
     ]
    }
   ],
   "source": [
    "!pwd & ls"
   ]
  },
  {
   "cell_type": "markdown",
   "metadata": {},
   "source": [
    "#STEP6  DIGITS DB 생성하기\n",
    "이제 DIGITS에서 데이터셋을 등록할 수 있습니다. \n",
    "데이터의 위치는 다음과 같습니다. \n",
    "# /home/ubuntu/notebook/class3/whale_train_subfolder"
   ]
  },
  {
   "cell_type": "code",
   "execution_count": null,
   "metadata": {
    "collapsed": true
   },
   "outputs": [],
   "source": []
  }
 ],
 "metadata": {
  "kernelspec": {
   "display_name": "Python 2",
   "language": "python",
   "name": "python2"
  },
  "language_info": {
   "codemirror_mode": {
    "name": "ipython",
    "version": 2
   },
   "file_extension": ".py",
   "mimetype": "text/x-python",
   "name": "python",
   "nbconvert_exporter": "python",
   "pygments_lexer": "ipython2",
   "version": "2.7.10"
  }
 },
 "nbformat": 4,
 "nbformat_minor": 0
}
